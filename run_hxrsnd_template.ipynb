{
 "cells": [
  {
   "cell_type": "markdown",
   "metadata": {},
   "source": [
    "# HXRSnD Run"
   ]
  },
  {
   "cell_type": "code",
   "execution_count": null,
   "metadata": {
    "collapsed": true
   },
   "outputs": [],
   "source": [
    "# Jupyter Notebook Settings\n",
    "# This makes it so functions are automatically reloaded everytime they are \n",
    "# called, that way it isn't necessary to rerun the whole notebook after\n",
    "# every change\n",
    "\n",
    "# Load the \"autoreload\" extension\n",
    "%load_ext autoreload\n",
    "# always reload modules marked with \"%aimport\". 'autoreload 2' will set \n",
    "# everything to be autoreloaded except for what has %aimport\n",
    "%autoreload 1\n",
    "# Load matplotlib plots in interactive notebook mode\n",
    "%matplotlib notebook"
   ]
  },
  {
   "cell_type": "code",
   "execution_count": null,
   "metadata": {
    "collapsed": true
   },
   "outputs": [],
   "source": [
    "# Handle all the imports\n",
    "\n",
    "############\n",
    "# Standard #\n",
    "############\n",
    "import logging\n",
    "from imp import reload\n",
    "\n",
    "###############\n",
    "# Third Party #\n",
    "###############\n",
    "from bluesky import RunEngine\n",
    "from bluesky.plans import run_wrapper\n",
    "\n",
    "########\n",
    "# SLAC #\n",
    "########\n",
    "%aimport pcdsdevices.daq\n",
    "from pcdsdevices.daq import make_daq_run_engine\n",
    "\n",
    "##########\n",
    "# Module #\n",
    "##########\n",
    "%aimport hxrsnd.plans\n",
    "from hxrsnd.plans import linear_scan\n",
    "%aimport hxrsnd.utils\n",
    "from hxrsnd.utils import get_logger\n",
    "%aimport hxrsnd.pneumatic\n",
    "from hxrsnd.pneumatic import SndPneumatics\n",
    "%aimport hxrsnd.sndsystem\n",
    "from hxrsnd.sndsystem import SplitAndDelay\n",
    "%aimport hxrsnd.tower\n",
    "from hxrsnd.tower import DelayTower, ChannelCutTower\n",
    "%aimport hxrsnd.bragg\n",
    "from hxrsnd.bragg import bragg_angle, bragg_energy, sind, cosd\n",
    "%aimport hxrsnd.diode\n",
    "from hxrsnd.diode import HamamatsuXMotionDiode, HamamatsuXYMotionCamDiode"
   ]
  },
  {
   "cell_type": "code",
   "execution_count": null,
   "metadata": {},
   "outputs": [],
   "source": [
    "# Logging\n",
    "logger = get_logger(__name__)\n",
    "get_logger(\"pcdsdevices\")"
   ]
  },
  {
   "cell_type": "code",
   "execution_count": null,
   "metadata": {
    "collapsed": true
   },
   "outputs": [],
   "source": [
    "# Instantiate the system\n",
    "pv_base = \"XCS:SND\"\n",
    "\n",
    "# The whole system\n",
    "snd = SplitAndDelay(pv_base)\n",
    "\n",
    "# Towers\n",
    "t1 = DelayTower(pv_base + \":T1\", y1=\"A:ACT0\", y2=\"A:ACT1\", chi1=\"A:ACT2\",\n",
    "                chi2=\"B:ACT0\", dh=\"B:ACT1\", pos_inserted=21.1,\n",
    "                pos_removed=0, desc=\"Tower 1\")\n",
    "t2 = ChannelCutTower(pv_base + \":T2\", pos_inserted=None, pos_removed=0, \n",
    "                     desc=\"Tower 2\")\n",
    "t3 = ChannelCutTower(pv_base + \":T3\", pos_inserted=None, pos_removed=0, \n",
    "                     desc=\"Tower 3\")\n",
    "t4 = DelayTower(pv_base + \":T4\", y1=\"C:ACT0\", y2=\"C:ACT1\", chi1=\"C:ACT2\",\n",
    "                chi2=\"D:ACT0\", dh=\"D:ACT1\", pos_inserted=21.1,\n",
    "                pos_removed=0, desc=\"Tower 4\")\n",
    "\n",
    "# Vacuum\n",
    "ab = SndPneumatics(pv_base)\n",
    "\n",
    "# Diagnostics\n",
    "di = HamamatsuXMotionDiode(pv_base + \":DIA:DI\")\n",
    "dd = HamamatsuXYMotionCamDiode(pv_base + \":DIA:DD\")\n",
    "do = HamamatsuXMotionDiode(pv_base + \":DIA:DO\")\n",
    "dci = HamamatsuXMotionDiode(pv_base + \":DIA:DCI\")\n",
    "dcc = HamamatsuXYMotionCamDiode(pv_base + \":DIA:DCC\")\n",
    "dco = HamamatsuXMotionDiode(pv_base + \":DIA:DCO\")"
   ]
  },
  {
   "cell_type": "code",
   "execution_count": null,
   "metadata": {},
   "outputs": [],
   "source": [
    "snd"
   ]
  },
  {
   "cell_type": "code",
   "execution_count": null,
   "metadata": {
    "collapsed": true
   },
   "outputs": [],
   "source": []
  }
 ],
 "metadata": {
  "kernelspec": {
   "display_name": "Python 3",
   "language": "python",
   "name": "python3"
  },
  "language_info": {
   "codemirror_mode": {
    "name": "ipython",
    "version": 3
   },
   "file_extension": ".py",
   "mimetype": "text/x-python",
   "name": "python",
   "nbconvert_exporter": "python",
   "pygments_lexer": "ipython3",
   "version": "3.6.2"
  }
 },
 "nbformat": 4,
 "nbformat_minor": 2
}
